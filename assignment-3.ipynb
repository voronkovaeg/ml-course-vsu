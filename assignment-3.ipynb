{
 "cells": [
  {
   "cell_type": "code",
   "execution_count": 1,
   "metadata": {
    "ExecuteTime": {
     "end_time": "2017-11-21T02:07:33.514456",
     "start_time": "2017-11-21T02:07:33.510408"
    },
    "collapsed": true
   },
   "outputs": [],
   "source": [
    "import pandas as pd"
   ]
  },
  {
   "cell_type": "code",
   "execution_count": 2,
   "metadata": {
    "ExecuteTime": {
     "end_time": "2017-11-21T02:07:33.528688",
     "start_time": "2017-11-21T02:07:33.517863"
    },
    "collapsed": true
   },
   "outputs": [],
   "source": [
    "df = pd.read_csv('data.csv')"
   ]
  },
  {
   "cell_type": "code",
   "execution_count": 3,
   "metadata": {
    "ExecuteTime": {
     "end_time": "2017-11-21T02:07:33.568778",
     "start_time": "2017-11-21T02:07:33.531698"
    },
    "collapsed": false
   },
   "outputs": [
    {
     "data": {
      "text/html": [
       "<div>\n",
       "<style scoped>\n",
       "    .dataframe tbody tr th:only-of-type {\n",
       "        vertical-align: middle;\n",
       "    }\n",
       "\n",
       "    .dataframe tbody tr th {\n",
       "        vertical-align: top;\n",
       "    }\n",
       "\n",
       "    .dataframe thead th {\n",
       "        text-align: right;\n",
       "    }\n",
       "</style>\n",
       "<table border=\"1\" class=\"dataframe\">\n",
       "  <thead>\n",
       "    <tr style=\"text-align: right;\">\n",
       "      <th></th>\n",
       "      <th>Возраст</th>\n",
       "      <th>Пол</th>\n",
       "      <th>Состоит в браке</th>\n",
       "      <th>Иждивенцы</th>\n",
       "      <th>Доход</th>\n",
       "      <th>Опыт работы</th>\n",
       "      <th>Срок проживания</th>\n",
       "      <th>Недвижимость(кв.м.)</th>\n",
       "      <th>Месячный платеж</th>\n",
       "      <th>Благонадежный заемщик</th>\n",
       "    </tr>\n",
       "  </thead>\n",
       "  <tbody>\n",
       "    <tr>\n",
       "      <th>0</th>\n",
       "      <td>28.0</td>\n",
       "      <td>женский</td>\n",
       "      <td>Да</td>\n",
       "      <td>0.0</td>\n",
       "      <td>9000.0</td>\n",
       "      <td>9.0</td>\n",
       "      <td>7.0</td>\n",
       "      <td>0.0</td>\n",
       "      <td>3946.0</td>\n",
       "      <td>Нет</td>\n",
       "    </tr>\n",
       "    <tr>\n",
       "      <th>1</th>\n",
       "      <td>39.0</td>\n",
       "      <td>мужской</td>\n",
       "      <td>Да</td>\n",
       "      <td>1.0</td>\n",
       "      <td>13500.0</td>\n",
       "      <td>17.0</td>\n",
       "      <td>6.0</td>\n",
       "      <td>0.0</td>\n",
       "      <td>2460.0</td>\n",
       "      <td>Да</td>\n",
       "    </tr>\n",
       "    <tr>\n",
       "      <th>2</th>\n",
       "      <td>31.0</td>\n",
       "      <td>мужской</td>\n",
       "      <td>Нет</td>\n",
       "      <td>2.0</td>\n",
       "      <td>7000.0</td>\n",
       "      <td>11.0</td>\n",
       "      <td>3.0</td>\n",
       "      <td>0.0</td>\n",
       "      <td>3126.0</td>\n",
       "      <td>Нет</td>\n",
       "    </tr>\n",
       "    <tr>\n",
       "      <th>3</th>\n",
       "      <td>34.0</td>\n",
       "      <td>мужской</td>\n",
       "      <td>Нет</td>\n",
       "      <td>1.0</td>\n",
       "      <td>10200.0</td>\n",
       "      <td>15.0</td>\n",
       "      <td>2.0</td>\n",
       "      <td>41.0</td>\n",
       "      <td>3280.0</td>\n",
       "      <td>Да</td>\n",
       "    </tr>\n",
       "    <tr>\n",
       "      <th>4</th>\n",
       "      <td>46.0</td>\n",
       "      <td>женский</td>\n",
       "      <td>Да</td>\n",
       "      <td>2.0</td>\n",
       "      <td>8500.0</td>\n",
       "      <td>20.0</td>\n",
       "      <td>8.0</td>\n",
       "      <td>0.0</td>\n",
       "      <td>3348.0</td>\n",
       "      <td>Да</td>\n",
       "    </tr>\n",
       "  </tbody>\n",
       "</table>\n",
       "</div>"
      ],
      "text/plain": [
       "   Возраст      Пол Состоит в браке  Иждивенцы    Доход  Опыт работы  \\\n",
       "0     28.0  женский              Да        0.0   9000.0          9.0   \n",
       "1     39.0  мужской              Да        1.0  13500.0         17.0   \n",
       "2     31.0  мужской             Нет        2.0   7000.0         11.0   \n",
       "3     34.0  мужской             Нет        1.0  10200.0         15.0   \n",
       "4     46.0  женский              Да        2.0   8500.0         20.0   \n",
       "\n",
       "   Срок проживания  Недвижимость(кв.м.)  Месячный платеж Благонадежный заемщик  \n",
       "0              7.0                  0.0           3946.0                   Нет  \n",
       "1              6.0                  0.0           2460.0                    Да  \n",
       "2              3.0                  0.0           3126.0                   Нет  \n",
       "3              2.0                 41.0           3280.0                    Да  \n",
       "4              8.0                  0.0           3348.0                    Да  "
      ]
     },
     "execution_count": 3,
     "metadata": {},
     "output_type": "execute_result"
    }
   ],
   "source": [
    "df.head()"
   ]
  },
  {
   "cell_type": "markdown",
   "metadata": {},
   "source": [
    "<div class=\"panel panel-info\" style=\"margin: 50px 0 0 0\">\n",
    "    <div class=\"panel-heading\">\n",
    "        <h3 class=\"panel-title\">Задание 1: Причесываем колонки</h3> \n",
    "    </div>\n",
    "</div>\n",
    "\n",
    "Окей, мы прочитали данные, но с ними еще не совсем удобно работать!\n",
    "\n",
    "Прежде всего, __переименуйте колонки__ так, чтобы они все были на старом-добром английском языке. Обычно предпочитают называть их __`likeThat`, `LikeThat`__ или __`like_that`__. Выбери что-то одно."
   ]
  },
  {
   "cell_type": "code",
   "execution_count": 4,
   "metadata": {
    "ExecuteTime": {
     "end_time": "2017-11-21T02:07:33.578728",
     "start_time": "2017-11-21T02:07:33.572999"
    },
    "collapsed": false
   },
   "outputs": [
    {
     "data": {
      "text/plain": [
       "Index(['Возраст', 'Пол', 'Состоит в браке', 'Иждивенцы', 'Доход',\n",
       "       'Опыт работы', 'Срок проживания', 'Недвижимость(кв.м.)',\n",
       "       'Месячный платеж', 'Благонадежный заемщик'],\n",
       "      dtype='object')"
      ]
     },
     "execution_count": 4,
     "metadata": {},
     "output_type": "execute_result"
    }
   ],
   "source": [
    "df.columns"
   ]
  },
  {
   "cell_type": "code",
   "execution_count": 5,
   "metadata": {
    "ExecuteTime": {
     "end_time": "2017-11-21T02:07:33.584689",
     "start_time": "2017-11-21T02:07:33.580836"
    },
    "collapsed": true
   },
   "outputs": [],
   "source": [
    "new_columns = ['Age', 'Sex', 'Married', 'Dependents', 'Income', 'Experience', \n",
    "               'TermOfStay', 'RealEstate', 'MonthlyPayment', 'Trustworthy']"
   ]
  },
  {
   "cell_type": "code",
   "execution_count": 6,
   "metadata": {
    "ExecuteTime": {
     "end_time": "2017-11-21T02:07:33.591924",
     "start_time": "2017-11-21T02:07:33.587504"
    },
    "collapsed": true
   },
   "outputs": [],
   "source": [
    "df.columns = new_columns"
   ]
  },
  {
   "cell_type": "code",
   "execution_count": 7,
   "metadata": {
    "ExecuteTime": {
     "end_time": "2017-11-21T02:07:33.650266",
     "start_time": "2017-11-21T02:07:33.594836"
    },
    "collapsed": false
   },
   "outputs": [
    {
     "data": {
      "text/html": [
       "<div>\n",
       "<style scoped>\n",
       "    .dataframe tbody tr th:only-of-type {\n",
       "        vertical-align: middle;\n",
       "    }\n",
       "\n",
       "    .dataframe tbody tr th {\n",
       "        vertical-align: top;\n",
       "    }\n",
       "\n",
       "    .dataframe thead th {\n",
       "        text-align: right;\n",
       "    }\n",
       "</style>\n",
       "<table border=\"1\" class=\"dataframe\">\n",
       "  <thead>\n",
       "    <tr style=\"text-align: right;\">\n",
       "      <th></th>\n",
       "      <th>Age</th>\n",
       "      <th>Sex</th>\n",
       "      <th>Married</th>\n",
       "      <th>Dependents</th>\n",
       "      <th>Income</th>\n",
       "      <th>Experience</th>\n",
       "      <th>TermOfStay</th>\n",
       "      <th>RealEstate</th>\n",
       "      <th>MonthlyPayment</th>\n",
       "      <th>Trustworthy</th>\n",
       "    </tr>\n",
       "  </thead>\n",
       "  <tbody>\n",
       "    <tr>\n",
       "      <th>0</th>\n",
       "      <td>28.0</td>\n",
       "      <td>женский</td>\n",
       "      <td>Да</td>\n",
       "      <td>0.0</td>\n",
       "      <td>9000.0</td>\n",
       "      <td>9.0</td>\n",
       "      <td>7.0</td>\n",
       "      <td>0.0</td>\n",
       "      <td>3946.0</td>\n",
       "      <td>Нет</td>\n",
       "    </tr>\n",
       "    <tr>\n",
       "      <th>1</th>\n",
       "      <td>39.0</td>\n",
       "      <td>мужской</td>\n",
       "      <td>Да</td>\n",
       "      <td>1.0</td>\n",
       "      <td>13500.0</td>\n",
       "      <td>17.0</td>\n",
       "      <td>6.0</td>\n",
       "      <td>0.0</td>\n",
       "      <td>2460.0</td>\n",
       "      <td>Да</td>\n",
       "    </tr>\n",
       "    <tr>\n",
       "      <th>2</th>\n",
       "      <td>31.0</td>\n",
       "      <td>мужской</td>\n",
       "      <td>Нет</td>\n",
       "      <td>2.0</td>\n",
       "      <td>7000.0</td>\n",
       "      <td>11.0</td>\n",
       "      <td>3.0</td>\n",
       "      <td>0.0</td>\n",
       "      <td>3126.0</td>\n",
       "      <td>Нет</td>\n",
       "    </tr>\n",
       "    <tr>\n",
       "      <th>3</th>\n",
       "      <td>34.0</td>\n",
       "      <td>мужской</td>\n",
       "      <td>Нет</td>\n",
       "      <td>1.0</td>\n",
       "      <td>10200.0</td>\n",
       "      <td>15.0</td>\n",
       "      <td>2.0</td>\n",
       "      <td>41.0</td>\n",
       "      <td>3280.0</td>\n",
       "      <td>Да</td>\n",
       "    </tr>\n",
       "    <tr>\n",
       "      <th>4</th>\n",
       "      <td>46.0</td>\n",
       "      <td>женский</td>\n",
       "      <td>Да</td>\n",
       "      <td>2.0</td>\n",
       "      <td>8500.0</td>\n",
       "      <td>20.0</td>\n",
       "      <td>8.0</td>\n",
       "      <td>0.0</td>\n",
       "      <td>3348.0</td>\n",
       "      <td>Да</td>\n",
       "    </tr>\n",
       "  </tbody>\n",
       "</table>\n",
       "</div>"
      ],
      "text/plain": [
       "    Age      Sex Married  Dependents   Income  Experience  TermOfStay  \\\n",
       "0  28.0  женский      Да         0.0   9000.0         9.0         7.0   \n",
       "1  39.0  мужской      Да         1.0  13500.0        17.0         6.0   \n",
       "2  31.0  мужской     Нет         2.0   7000.0        11.0         3.0   \n",
       "3  34.0  мужской     Нет         1.0  10200.0        15.0         2.0   \n",
       "4  46.0  женский      Да         2.0   8500.0        20.0         8.0   \n",
       "\n",
       "   RealEstate  MonthlyPayment Trustworthy  \n",
       "0         0.0          3946.0         Нет  \n",
       "1         0.0          2460.0          Да  \n",
       "2         0.0          3126.0         Нет  \n",
       "3        41.0          3280.0          Да  \n",
       "4         0.0          3348.0          Да  "
      ]
     },
     "execution_count": 7,
     "metadata": {},
     "output_type": "execute_result"
    }
   ],
   "source": [
    "df.head()"
   ]
  },
  {
   "cell_type": "markdown",
   "metadata": {},
   "source": [
    "<div class=\"panel panel-info\" style=\"margin: 50px 0 0 0\">\n",
    "    <div class=\"panel-heading\">\n",
    "        <h3 class=\"panel-title\">Задание 2: Язык, понятный компуктору</h3> \n",
    "    </div>\n",
    "</div>\n",
    "\n",
    "Все русские слова - вон! Да, и значения в колонках в том числе. \n",
    "\n",
    "Замените все значения в колонках пола, признака состояния в браке и благонадежности на нули и единицы, раз уж уникальных значений в них не больше двух. __Подсказка:__ используй метод __`map()`__.\n",
    "\n",
    "Убедитесь, что у вас все получилось, вызвав __`value_counts()`__ у соответствующих колоночек. А потом и проверьте тип данных с помощью __`info()`__"
   ]
  },
  {
   "cell_type": "code",
   "execution_count": 8,
   "metadata": {
    "ExecuteTime": {
     "end_time": "2017-11-21T02:07:33.665904",
     "start_time": "2017-11-21T02:07:33.652559"
    },
    "collapsed": false
   },
   "outputs": [],
   "source": [
    "df.Sex = df.Sex.map({'мужской': 1, 'женский': 0})\n",
    "\n",
    "df.Married = df.Married.map({'Да': 1, 'Нет': 0})\n",
    "\n",
    "df.Trustworthy = df.Trustworthy.map({'Да': 1, 'Нет': 0})"
   ]
  },
  {
   "cell_type": "code",
   "execution_count": 9,
   "metadata": {
    "ExecuteTime": {
     "end_time": "2017-11-21T02:07:33.680067",
     "start_time": "2017-11-21T02:07:33.668390"
    },
    "collapsed": false,
    "scrolled": true
   },
   "outputs": [
    {
     "name": "stdout",
     "output_type": "stream",
     "text": [
      "<class 'pandas.core.frame.DataFrame'>\n",
      "RangeIndex: 1000 entries, 0 to 999\n",
      "Data columns (total 10 columns):\n",
      "Age               999 non-null float64\n",
      "Sex               999 non-null float64\n",
      "Married           999 non-null float64\n",
      "Dependents        999 non-null float64\n",
      "Income            999 non-null float64\n",
      "Experience        999 non-null float64\n",
      "TermOfStay        999 non-null float64\n",
      "RealEstate        999 non-null float64\n",
      "MonthlyPayment    999 non-null float64\n",
      "Trustworthy       999 non-null float64\n",
      "dtypes: float64(10)\n",
      "memory usage: 78.2 KB\n"
     ]
    }
   ],
   "source": [
    "df.info()"
   ]
  },
  {
   "cell_type": "markdown",
   "metadata": {
    "ExecuteTime": {
     "end_time": "2017-11-15T01:04:37.820238",
     "start_time": "2017-11-15T01:04:37.803098"
    }
   },
   "source": [
    "<div class=\"panel panel-warning\" style=\"margin: 0 0 0 0\">\n",
    "    <div class=\"panel-heading\">\n",
    "        <h3 class=\"panel-title\">Бонус!</h3> \n",
    "    </div>\n",
    "</div>\n",
    "\n",
    "Удали строчку с __NaN__! Найди ее! И удали!"
   ]
  },
  {
   "cell_type": "code",
   "execution_count": 10,
   "metadata": {},
   "outputs": [
    {
     "data": {
      "text/html": [
       "<div>\n",
       "<style scoped>\n",
       "    .dataframe tbody tr th:only-of-type {\n",
       "        vertical-align: middle;\n",
       "    }\n",
       "\n",
       "    .dataframe tbody tr th {\n",
       "        vertical-align: top;\n",
       "    }\n",
       "\n",
       "    .dataframe thead th {\n",
       "        text-align: right;\n",
       "    }\n",
       "</style>\n",
       "<table border=\"1\" class=\"dataframe\">\n",
       "  <thead>\n",
       "    <tr style=\"text-align: right;\">\n",
       "      <th></th>\n",
       "      <th>Age</th>\n",
       "      <th>Sex</th>\n",
       "      <th>Married</th>\n",
       "      <th>Dependents</th>\n",
       "      <th>Income</th>\n",
       "      <th>Experience</th>\n",
       "      <th>TermOfStay</th>\n",
       "      <th>RealEstate</th>\n",
       "      <th>MonthlyPayment</th>\n",
       "      <th>Trustworthy</th>\n",
       "    </tr>\n",
       "  </thead>\n",
       "  <tbody>\n",
       "    <tr>\n",
       "      <th>999</th>\n",
       "      <td>NaN</td>\n",
       "      <td>NaN</td>\n",
       "      <td>NaN</td>\n",
       "      <td>NaN</td>\n",
       "      <td>NaN</td>\n",
       "      <td>NaN</td>\n",
       "      <td>NaN</td>\n",
       "      <td>NaN</td>\n",
       "      <td>NaN</td>\n",
       "      <td>NaN</td>\n",
       "    </tr>\n",
       "  </tbody>\n",
       "</table>\n",
       "</div>"
      ],
      "text/plain": [
       "     Age  Sex  Married  Dependents  Income  Experience  TermOfStay  \\\n",
       "999  NaN  NaN      NaN         NaN     NaN         NaN         NaN   \n",
       "\n",
       "     RealEstate  MonthlyPayment  Trustworthy  \n",
       "999         NaN             NaN          NaN  "
      ]
     },
     "execution_count": 10,
     "metadata": {},
     "output_type": "execute_result"
    }
   ],
   "source": [
    "df[df.isnull().any(axis=1)]"
   ]
  },
  {
   "cell_type": "code",
   "execution_count": 11,
   "metadata": {
    "ExecuteTime": {
     "end_time": "2017-11-21T02:07:33.689731",
     "start_time": "2017-11-21T02:07:33.682302"
    },
    "collapsed": true
   },
   "outputs": [],
   "source": [
    "df.dropna(inplace=True)"
   ]
  },
  {
   "cell_type": "markdown",
   "metadata": {},
   "source": [
    "<div class=\"panel panel-info\" style=\"margin: 50px 0 0 0\">\n",
    "    <div class=\"panel-heading\">\n",
    "        <h3 class=\"panel-title\">Задание 3: Новые колонки</h3> \n",
    "    </div>\n",
    "</div>\n",
    "\n",
    "Помнишь еще, как создаются новые колонки? Ну ничего, погуглишь.\n",
    "\n",
    "1. Сделай новую колонку __а-ля \"удар по бюджету\"__, значения в которой равны доле месячного платежа к величине дохода.\n",
    "2. Посчитай в новой колонке __а-ля \"размер семьи\"__, сколько у заемщика человек в семье, то есть количество иждивенцев + муж/жена (если таковые имеются). \n",
    "2. Считая, что деньги в семье распределяются абсолютно честно, сделай новую колонку __а-ля \"моя доля\"__, значения в которой равны доходу (чистому, учитывая ежемесячный платеж!), деленному на количество человек в семье.\n",
    "\n",
    "Вызови __.head()__ и полюбуйся в конце на результаты своей работы."
   ]
  },
  {
   "cell_type": "code",
   "execution_count": 12,
   "metadata": {
    "ExecuteTime": {
     "end_time": "2017-11-21T02:07:33.701578",
     "start_time": "2017-11-21T02:07:33.692104"
    },
    "collapsed": true
   },
   "outputs": [],
   "source": [
    "df['PaymentFraction'] = df.MonthlyPayment / df.Income\n",
    "df['FamilyMembers']   = df.Married + df.Dependents\n",
    "df['RelativeIncome']  = (df.Income - df.MonthlyPayment) / df.FamilyMembers"
   ]
  },
  {
   "cell_type": "code",
   "execution_count": 13,
   "metadata": {
    "ExecuteTime": {
     "end_time": "2017-11-21T02:07:33.739518",
     "start_time": "2017-11-21T02:07:33.704512"
    },
    "collapsed": false,
    "scrolled": true
   },
   "outputs": [
    {
     "data": {
      "text/html": [
       "<div>\n",
       "<style scoped>\n",
       "    .dataframe tbody tr th:only-of-type {\n",
       "        vertical-align: middle;\n",
       "    }\n",
       "\n",
       "    .dataframe tbody tr th {\n",
       "        vertical-align: top;\n",
       "    }\n",
       "\n",
       "    .dataframe thead th {\n",
       "        text-align: right;\n",
       "    }\n",
       "</style>\n",
       "<table border=\"1\" class=\"dataframe\">\n",
       "  <thead>\n",
       "    <tr style=\"text-align: right;\">\n",
       "      <th></th>\n",
       "      <th>Age</th>\n",
       "      <th>Sex</th>\n",
       "      <th>Married</th>\n",
       "      <th>Dependents</th>\n",
       "      <th>Income</th>\n",
       "      <th>Experience</th>\n",
       "      <th>TermOfStay</th>\n",
       "      <th>RealEstate</th>\n",
       "      <th>MonthlyPayment</th>\n",
       "      <th>Trustworthy</th>\n",
       "      <th>PaymentFraction</th>\n",
       "      <th>FamilyMembers</th>\n",
       "      <th>RelativeIncome</th>\n",
       "    </tr>\n",
       "  </thead>\n",
       "  <tbody>\n",
       "    <tr>\n",
       "      <th>0</th>\n",
       "      <td>28.0</td>\n",
       "      <td>0.0</td>\n",
       "      <td>1.0</td>\n",
       "      <td>0.0</td>\n",
       "      <td>9000.0</td>\n",
       "      <td>9.0</td>\n",
       "      <td>7.0</td>\n",
       "      <td>0.0</td>\n",
       "      <td>3946.0</td>\n",
       "      <td>0.0</td>\n",
       "      <td>0.438444</td>\n",
       "      <td>1.0</td>\n",
       "      <td>5054.000000</td>\n",
       "    </tr>\n",
       "    <tr>\n",
       "      <th>1</th>\n",
       "      <td>39.0</td>\n",
       "      <td>1.0</td>\n",
       "      <td>1.0</td>\n",
       "      <td>1.0</td>\n",
       "      <td>13500.0</td>\n",
       "      <td>17.0</td>\n",
       "      <td>6.0</td>\n",
       "      <td>0.0</td>\n",
       "      <td>2460.0</td>\n",
       "      <td>1.0</td>\n",
       "      <td>0.182222</td>\n",
       "      <td>2.0</td>\n",
       "      <td>5520.000000</td>\n",
       "    </tr>\n",
       "    <tr>\n",
       "      <th>2</th>\n",
       "      <td>31.0</td>\n",
       "      <td>1.0</td>\n",
       "      <td>0.0</td>\n",
       "      <td>2.0</td>\n",
       "      <td>7000.0</td>\n",
       "      <td>11.0</td>\n",
       "      <td>3.0</td>\n",
       "      <td>0.0</td>\n",
       "      <td>3126.0</td>\n",
       "      <td>0.0</td>\n",
       "      <td>0.446571</td>\n",
       "      <td>2.0</td>\n",
       "      <td>1937.000000</td>\n",
       "    </tr>\n",
       "    <tr>\n",
       "      <th>3</th>\n",
       "      <td>34.0</td>\n",
       "      <td>1.0</td>\n",
       "      <td>0.0</td>\n",
       "      <td>1.0</td>\n",
       "      <td>10200.0</td>\n",
       "      <td>15.0</td>\n",
       "      <td>2.0</td>\n",
       "      <td>41.0</td>\n",
       "      <td>3280.0</td>\n",
       "      <td>1.0</td>\n",
       "      <td>0.321569</td>\n",
       "      <td>1.0</td>\n",
       "      <td>6920.000000</td>\n",
       "    </tr>\n",
       "    <tr>\n",
       "      <th>4</th>\n",
       "      <td>46.0</td>\n",
       "      <td>0.0</td>\n",
       "      <td>1.0</td>\n",
       "      <td>2.0</td>\n",
       "      <td>8500.0</td>\n",
       "      <td>20.0</td>\n",
       "      <td>8.0</td>\n",
       "      <td>0.0</td>\n",
       "      <td>3348.0</td>\n",
       "      <td>1.0</td>\n",
       "      <td>0.393882</td>\n",
       "      <td>3.0</td>\n",
       "      <td>1717.333333</td>\n",
       "    </tr>\n",
       "  </tbody>\n",
       "</table>\n",
       "</div>"
      ],
      "text/plain": [
       "    Age  Sex  Married  Dependents   Income  Experience  TermOfStay  \\\n",
       "0  28.0  0.0      1.0         0.0   9000.0         9.0         7.0   \n",
       "1  39.0  1.0      1.0         1.0  13500.0        17.0         6.0   \n",
       "2  31.0  1.0      0.0         2.0   7000.0        11.0         3.0   \n",
       "3  34.0  1.0      0.0         1.0  10200.0        15.0         2.0   \n",
       "4  46.0  0.0      1.0         2.0   8500.0        20.0         8.0   \n",
       "\n",
       "   RealEstate  MonthlyPayment  Trustworthy  PaymentFraction  FamilyMembers  \\\n",
       "0         0.0          3946.0          0.0         0.438444            1.0   \n",
       "1         0.0          2460.0          1.0         0.182222            2.0   \n",
       "2         0.0          3126.0          0.0         0.446571            2.0   \n",
       "3        41.0          3280.0          1.0         0.321569            1.0   \n",
       "4         0.0          3348.0          1.0         0.393882            3.0   \n",
       "\n",
       "   RelativeIncome  \n",
       "0     5054.000000  \n",
       "1     5520.000000  \n",
       "2     1937.000000  \n",
       "3     6920.000000  \n",
       "4     1717.333333  "
      ]
     },
     "execution_count": 13,
     "metadata": {},
     "output_type": "execute_result"
    }
   ],
   "source": [
    "df.head()"
   ]
  },
  {
   "cell_type": "markdown",
   "metadata": {
    "ExecuteTime": {
     "end_time": "2017-11-15T01:04:37.820238",
     "start_time": "2017-11-15T01:04:37.803098"
    }
   },
   "source": [
    "<div class=\"panel panel-warning\" style=\"margin: 0 0 0 0\">\n",
    "    <div class=\"panel-heading\">\n",
    "        <h3 class=\"panel-title\">Бонус!</h3> \n",
    "    </div>\n",
    "</div>\n",
    "\n",
    "Удали один какой-нибудь ненужный столбец, если хочешь. Какой-нибудь бесполезный. Но лучше не надо."
   ]
  },
  {
   "cell_type": "code",
   "execution_count": 14,
   "metadata": {
    "ExecuteTime": {
     "end_time": "2017-11-21T02:07:33.759189",
     "start_time": "2017-11-21T02:07:33.754831"
    },
    "collapsed": true
   },
   "outputs": [],
   "source": [
    "df.drop(['TermOfStay'], axis=1, inplace=True)"
   ]
  },
  {
   "cell_type": "markdown",
   "metadata": {},
   "source": [
    "<div class=\"panel panel-info\" style=\"margin: 50px 0 0 0\">\n",
    "    <div class=\"panel-heading\">\n",
    "        <h3 class=\"panel-title\">Задание 4: Время гуглить</h3> \n",
    "    </div>\n",
    "</div>\n",
    "\n",
    "В `pandas` есть функция под названием __`cut()`__, которая позволяет разбить значения признака на группы (или корзины), и присвоить каждой группе свою метку.\n",
    "\n",
    "Например, будет неплохой идеей разбить возраст на возрастные группы: до 18 лет, до 30 лет, до 50, до 99. И сделать новую колонку с соответствующей меткой. Можно, чтобы она была строкой, да.\n",
    "\n",
    "Как раз и вспомнишь, как новый столбец сделать.\n",
    "\n",
    "А потом посмотри на __`.value_counts()`__ этого столбца и сделай мудрые выводы."
   ]
  },
  {
   "cell_type": "code",
   "execution_count": 15,
   "metadata": {
    "ExecuteTime": {
     "end_time": "2017-11-21T02:07:33.775484",
     "start_time": "2017-11-21T02:07:33.761068"
    },
    "collapsed": false
   },
   "outputs": [],
   "source": [
    "df['AgeGroup'] = pd.cut(df.Age, [0, 18, 30, 50, 99], labels=['Baby', 'Young', 'Adult', 'Old'])"
   ]
  },
  {
   "cell_type": "code",
   "execution_count": 16,
   "metadata": {},
   "outputs": [
    {
     "data": {
      "text/plain": [
       "Adult            0.657658\n",
       "Young          0.297297\n",
       "Old               0.045045\n",
       "Baby    0.000000\n",
       "Name: AgeGroup, dtype: float64"
      ]
     },
     "execution_count": 16,
     "metadata": {},
     "output_type": "execute_result"
    }
   ],
   "source": [
    "df.AgeGroup.value_counts(normalize=True)"
   ]
  },
  {
   "cell_type": "code",
   "execution_count": 17,
   "metadata": {
    "ExecuteTime": {
     "end_time": "2017-11-21T02:07:34.092339",
     "start_time": "2017-11-21T02:07:33.778058"
    },
    "collapsed": false
   },
   "outputs": [
    {
     "data": {
      "image/png": "[encoded data removed]",
      "text/plain": [
       "<Figure size 432x288 with 1 Axes>"
      ]
     },
     "metadata": {},
     "output_type": "display_data"
    }
   ],
   "source": [
    "df.AgeGroup.value_counts().plot.bar();"
   ]
  },
  {
   "cell_type": "markdown",
   "metadata": {},
   "source": [
    "<div class=\"panel panel-info\" style=\"margin: 50px 0 0 0\">\n",
    "    <div class=\"panel-heading\">\n",
    "        <h3 class=\"panel-title\">Задание 5: Время приключений</h3> \n",
    "    </div>\n",
    "</div>\n",
    "\n",
    "Кто тут data scientist? Ты data scientist!\n",
    "\n",
    "Докажи это! Исследуй данные вдоль и поперек!\n",
    "\n",
    "Группируй с помощью __`.groupby()`__ строки по полу, семейному статусу и всему другому, что приходит в голову, и считай статистики: средние и медианные доходы, квадратные метры и размеры семей. Не забывай учитывать и нашу целевую переменную - благонадежность - и задавать себе вопросы, например, вот такие:"
   ]
  },
  {
   "cell_type": "markdown",
   "metadata": {},
   "source": [
    "*Правда ли, что старшее поколение более надежно в деле выплат?*"
   ]
  },
  {
   "cell_type": "code",
   "execution_count": 18,
   "metadata": {},
   "outputs": [
    {
     "data": {
      "text/plain": [
       "AgeGroup\n",
       "Baby         NaN\n",
       "Young          0.498316\n",
       "Adult             0.473364\n",
       "Old               0.733333\n",
       "Name: Trustworthy, dtype: float64"
      ]
     },
     "execution_count": 18,
     "metadata": {},
     "output_type": "execute_result"
    }
   ],
   "source": [
    "gb = df.groupby('AgeGroup')\n",
    "gb.Trustworthy.sum() / gb.Trustworthy.count()"
   ]
  },
  {
   "cell_type": "markdown",
   "metadata": {},
   "source": [
    "Старшее поколение более благонадежны."
   ]
  },
  {
   "cell_type": "markdown",
   "metadata": {},
   "source": [
    "*Правда ли, что молодые больше зарабатывают?*"
   ]
  },
  {
   "cell_type": "code",
   "execution_count": 19,
   "metadata": {},
   "outputs": [
    {
     "data": {
      "text/plain": [
       "AgeGroup\n",
       "Baby            NaN\n",
       "Young          12841.077441\n",
       "Adult             13395.585997\n",
       "Old               14924.444444\n",
       "Name: Income, dtype: float64"
      ]
     },
     "execution_count": 19,
     "metadata": {},
     "output_type": "execute_result"
    }
   ],
   "source": [
    "df.groupby('AgeGroup').Income.mean()"
   ]
  },
  {
   "cell_type": "markdown",
   "metadata": {},
   "source": [
    "Люди старше 50 получают больше."
   ]
  },
  {
   "cell_type": "markdown",
   "metadata": {},
   "source": [
    "*Правда ли, что чем больше у заемщика семья, тем большую сумму кредита (исходя из месячного платежа) он хочет получить?*"
   ]
  },
  {
   "cell_type": "code",
   "execution_count": 20,
   "metadata": {},
   "outputs": [
    {
     "data": {
      "image/png": "[encoded data removed]",
      "text/plain": [
       "<Figure size 432x288 with 1 Axes>"
      ]
     },
     "metadata": {},
     "output_type": "display_data"
    }
   ],
   "source": [
    "df.groupby('FamilyMembers').MonthlyPayment.mean().plot.line();"
   ]
  },
  {
   "cell_type": "markdown",
   "metadata": {},
   "source": [
    "Да"
   ]
  },
  {
   "cell_type": "markdown",
   "metadata": {},
   "source": [
    "*Правда ли, что мужчины в среднем владеют большей площадью недвижимости?*"
   ]
  },
  {
   "cell_type": "code",
   "execution_count": 21,
   "metadata": {},
   "outputs": [
    {
     "data": {
      "text/plain": [
       "Sex\n",
       "0.0    14.386819\n",
       "1.0    14.884615\n",
       "Name: RealEstate, dtype: float64"
      ]
     },
     "execution_count": 21,
     "metadata": {},
     "output_type": "execute_result"
    }
   ],
   "source": [
    "df.groupby('Sex').RealEstate.mean()"
   ]
  },
  {
   "cell_type": "markdown",
   "metadata": {},
   "source": [
    "Да, но разница не существенна."
   ]
  },
  {
   "cell_type": "code",
   "execution_count": null,
   "metadata": {},
   "outputs": [],
   "source": []
  }
 ],
 "metadata": {
  "kernelspec": {
   "display_name": "Python 3",
   "language": "python",
   "name": "python3"
  },
  "language_info": {
   "codemirror_mode": {
    "name": "ipython",
    "version": 3
   },
   "file_extension": ".py",
   "mimetype": "text/x-python",
   "name": "python",
   "nbconvert_exporter": "python",
   "pygments_lexer": "ipython3",
   "version": "3.6.5"
  },
  "toc": {
   "colors": {
    "hover_highlight": "#DAA520",
    "running_highlight": "#FF0000",
    "selected_highlight": "#FFD700"
   },
   "moveMenuLeft": true,
   "nav_menu": {
    "height": "138px",
    "width": "252px"
   },
   "navigate_menu": true,
   "number_sections": false,
   "sideBar": true,
   "threshold": 4,
   "toc_cell": false,
   "toc_section_display": "block",
   "toc_window_display": false
  }
 },
 "nbformat": 4,
 "nbformat_minor": 2
}
